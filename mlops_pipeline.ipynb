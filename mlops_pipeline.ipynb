{
 "cells": [
  {
   "cell_type": "markdown",
   "id": "0eb05b54",
   "metadata": {
    "id": "0eb05b54"
   },
   "source": [
    "# MLOps with SageMaker Pipelines\n",
    "[Check]\n",
    "- ROLE :  sagemaker role arn: arn:aws:iam::353411055907:role/service-role/AmazonSageMaker-ExecutionRole-20230315T235247\n",
    "- `AmazonSageMakerFullAccess`와 `AmazonSageMakerPipelinesIntegrations` policy 필수 \n"
   ]
  },
  {
   "cell_type": "code",
   "execution_count": 27,
   "id": "7a6f9f34-ae97-435f-8392-c1c68c9a3a36",
   "metadata": {
    "tags": []
   },
   "outputs": [
    {
     "name": "stdout",
     "output_type": "stream",
     "text": [
      "The autoreload extension is already loaded. To reload it, use:\n",
      "  %reload_ext autoreload\n"
     ]
    }
   ],
   "source": [
    "# The necessary packages are already set to be installed through a script written in the LifeCycle Configurations when the  Sagenmaker Studio's Notebook Jobs starts\n",
    "%load_ext autoreload\n",
    "%autoreload 2\n",
    "import sys\n",
    "import IPython\n",
    "\n",
    "#install_needed = True\n",
    "install_needed = False\n",
    "\n",
    "if install_needed:\n",
    "    print(\"===> Installing deps and restarting kernel. Please change 'install_needed = False' and run this code cell again.\")\n",
    "    !{sys.executable} -m pip install -U \"nbformat\" \"argparse\" \"torchvision==0.14.1\"  \"awscli==1.27.68\" \"boto3==1.26.68\" \"botocore==1.29.68\" \"datasets==1.18.4\" \"sagemaker==2.143.0\" \"s3fs==0.4.2\" \"s3transfer==0.6.0\" \"transformers==4.17.0\" \"nvidia-cublas-cu11==11.10.3.66\" \"nvidia-cuda-nvrtc-cu11==11.7.99\" \"nvidia-cuda-runtime-cu11==11.7.99\" \"nvidia-cudnn-cu11==8.5.0.96\"  \n",
    "    IPython.Application.instance().kernel.do_shutdown(True)"
   ]
  },
  {
   "cell_type": "code",
   "execution_count": 28,
   "id": "47e800e8",
   "metadata": {
    "id": "47e800e8",
    "tags": []
   },
   "outputs": [],
   "source": [
    "import boto3\n",
    "import os\n",
    "import numpy as np\n",
    "import sagemaker\n",
    "import sys\n",
    "import time\n",
    "\n",
    "import sagemaker\n",
    "import sagemaker.huggingface\n",
    "from sagemaker.huggingface import HuggingFace, HuggingFaceModel\n",
    "\n",
    "from sagemaker.workflow.parameters import ParameterInteger, ParameterFloat, ParameterString\n",
    "\n",
    "from sagemaker.lambda_helper import Lambda\n",
    "\n",
    "from sagemaker.sklearn.processing import SKLearnProcessor\n",
    "from sagemaker.huggingface.processing import HuggingFaceProcessor\n",
    "\n",
    "from sagemaker.processing import ProcessingInput, ProcessingOutput\n",
    "from sagemaker.workflow.steps import CacheConfig, ProcessingStep\n",
    "\n",
    "from sagemaker.inputs import TrainingInput\n",
    "from sagemaker.workflow.steps import TrainingStep\n",
    "\n",
    "from sagemaker.processing import ScriptProcessor\n",
    "from sagemaker.workflow.properties import PropertyFile\n",
    "from sagemaker.workflow.step_collections import CreateModelStep, RegisterModel\n",
    "\n",
    "from sagemaker.workflow.conditions import ConditionLessThanOrEqualTo,ConditionGreaterThanOrEqualTo\n",
    "from sagemaker.workflow.condition_step import ConditionStep\n",
    "from sagemaker.workflow.functions import JsonGet\n",
    "\n",
    "from sagemaker.workflow.pipeline import Pipeline, PipelineExperimentConfig\n",
    "from sagemaker.workflow.execution_variables import ExecutionVariables"
   ]
  },
  {
   "cell_type": "code",
   "execution_count": 29,
   "id": "6c88b740",
   "metadata": {
    "id": "6c88b740",
    "tags": []
   },
   "outputs": [
    {
     "name": "stdout",
     "output_type": "stream",
     "text": [
      "sagemaker role arn: arn:aws:iam::353411055907:role/service-role/AmazonSageMaker-ExecutionRole-20230315T235247\n",
      "sagemaker bucket: sagemaker-us-east-1-353411055907\n",
      "sagemaker session region: us-east-1\n"
     ]
    }
   ],
   "source": [
    "sess = sagemaker.Session()\n",
    "region = sess.boto_region_name\n",
    "\n",
    "# sagemaker session bucket -> used for uploading data, models and logs\n",
    "# sagemaker will automatically create this bucket if it not exists\n",
    "sagemaker_session_bucket=None\n",
    "if sagemaker_session_bucket is None and sess is not None:\n",
    "    # set to default bucket if a bucket name is not given\n",
    "    sagemaker_session_bucket = sess.default_bucket()\n",
    "\n",
    "role = sagemaker.get_execution_role()\n",
    "sagemaker_session = sagemaker.Session(default_bucket=sagemaker_session_bucket)\n",
    "\n",
    "print(f\"sagemaker role arn: {role}\")\n",
    "print(f\"sagemaker bucket: {sagemaker_session.default_bucket()}\")\n",
    "print(f\"sagemaker session region: {sagemaker_session.boto_region_name}\")"
   ]
  },
  {
   "cell_type": "code",
   "execution_count": 30,
   "id": "a37f0be8-e2fb-432f-841d-020e41ac6d01",
   "metadata": {
    "tags": []
   },
   "outputs": [],
   "source": [
    "# Bring the necessary src and utils from the S3 bucket to the current working directory for the Scheduling Job by SageMaker Studio Notebook Jobs\n",
    "import boto3\n",
    "import os\n",
    "import zipfile\n",
    "\n",
    "s3_uri = 's3://sagemaker-us-east-1-353411055907/GP-LJP-mlops/LJP_MLops.zip'\n",
    "\n",
    "current_dir = os.getcwd()\n",
    "\n",
    "s3 = boto3.client('s3')\n",
    "bucket, key = s3_uri.split('//')[1].split('/', 1)\n",
    "s3.download_file(bucket, key, os.path.join(current_dir, os.path.basename(key)))\n",
    "\n",
    "zip_file = os.path.join(current_dir, os.path.basename(key))\n",
    "with zipfile.ZipFile(zip_file, 'r') as zip_ref:\n",
    "    zip_ref.extractall(current_dir)"
   ]
  },
  {
   "cell_type": "markdown",
   "id": "3cf3461c",
   "metadata": {
    "id": "3cf3461c",
    "tags": []
   },
   "source": [
    "\n",
    "## Defining the Pipeline\n",
    "---\n"
   ]
  },
  {
   "cell_type": "markdown",
   "id": "a10ccfdf",
   "metadata": {},
   "source": [
    "###  Pipeline parameters"
   ]
  },
  {
   "cell_type": "code",
   "execution_count": 31,
   "id": "1696421d",
   "metadata": {
    "id": "1696421d",
    "tags": []
   },
   "outputs": [],
   "source": [
    "# S3 prefix where every assets will be stored\n",
    "s3_prefix = \"GP-LJP-mlops\"\n",
    "\n",
    "# s3 bucket used for storing assets and artifacts\n",
    "bucket = sagemaker_session.default_bucket()\n",
    "\n",
    "# aws region used\n",
    "region = sagemaker_session.boto_region_name\n",
    "\n",
    "# base name prefix for sagemaker jobs (training, processing, inference)\n",
    "base_job_prefix = s3_prefix\n",
    "\n",
    "# Cache configuration for workflow\n",
    "cache_config = CacheConfig(enable_caching=True, expire_after=\"7d\")\n",
    "\n",
    "# package versions\n",
    "transformers_version = '4.17.0'\n",
    "pytorch_version = '1.10.2'\n",
    "py_version = \"py38\"\n",
    "\n",
    "model_id_ = \"lawcompany/KLAID_LJP_base\"\n",
    "tokenizer_id_ = \"lawcompany/KLAID_LJP_base\"\n",
    "dataset_name_ = \"lawcompany/KLAID\"\n",
    "\n",
    "model_id = ParameterString(name=\"ModelId\", default_value=model_id_)\n",
    "tokenizer_id = ParameterString(name=\"TokenizerId\", default_value=tokenizer_id_)\n",
    "dataset_name = ParameterString(name=\"DatasetName\", default_value=dataset_name_)"
   ]
  },
  {
   "cell_type": "markdown",
   "id": "31677317",
   "metadata": {
    "id": "31677317"
   },
   "source": [
    "### Processing Step"
   ]
  },
  {
   "cell_type": "code",
   "execution_count": 32,
   "id": "40481fbc-448a-4773-9a69-a14f2f8c5d68",
   "metadata": {},
   "outputs": [],
   "source": [
    "from sagemaker.processing import ProcessingInput, ProcessingOutput, ScriptProcessor\n",
    "from sagemaker.workflow.parameters import ParameterString, ParameterInteger\n",
    "from sagemaker.workflow.steps import ProcessingStep\n",
    "import os\n",
    "\n",
    "\n",
    "data_processing_script_py = \"./src/collecting_data.py\"  \n",
    "\n",
    "# S3 버킷 이름과 경로 설정\n",
    "s3_bucket = bucket  # S3 버킷 이름\n",
    "s3_prefix = \"GP-LJP-mlops\"  # S3에 저장할 폴더 이름\n",
    "\n",
    "\n",
    "# 데이터 전처리 스크립트 파일과 출력 경로 설정\n",
    "data_processing_script = \"./src/collecting_data.py\"  # 데이터 전처리를 위한 Python 스크립트 파일\n",
    "output_data_path = f\"s3://{s3_bucket}/{s3_prefix}/data/collected_data\"  # 전처리된 데이터를 저장할 S3 경\n",
    "\n",
    "\n",
    "# file_name 파라미터 정의\n",
    "file_name = ParameterString(name='FileName', default_value='final_data.csv')\n",
    "\n",
    "# SageMaker SKLearnProcessor 생성\n",
    "sklearn_processor = SKLearnProcessor(\n",
    "    framework_version='0.23-1',  # 사전 정의된 scikit-learn 버전 지정\n",
    "    role=role,  # 미리 생성한 IAM 역할 ARN을 사용\n",
    "    instance_count=1,\n",
    "    instance_type='ml.m5.xlarge',\n",
    ")\n",
    "\n",
    "\n",
    "# SageMaker Processing Job 정의\n",
    "step_data_collection = ProcessingStep(\n",
    "    name='DataProcessing',\n",
    "    processor=sklearn_processor,\n",
    "    inputs=[\n",
    "        ProcessingInput(\n",
    "            source=f\"s3://{s3_bucket}/{s3_prefix}/data/labels.csv\",\n",
    "            destination=\"/opt/ml/processing/input\",\n",
    "        ),\n",
    "        # 다른 입력 데이터에 대한 설정 추가 (필요에 따라)\n",
    "    ],\n",
    "    outputs=[\n",
    "        ProcessingOutput(\n",
    "            source=\"/opt/ml/processing/output\",\n",
    "            destination=output_data_path,\n",
    "            output_name='file_name',\n",
    "        ),\n",
    "        ProcessingOutput(\n",
    "            source=\"/opt/ml/processing/processed_output\",\n",
    "            destination=output_data_path,\n",
    "        )\n",
    "    ],\n",
    "    code=data_processing_script,\n",
    ")\n",
    "\n"
   ]
  },
  {
   "cell_type": "code",
   "execution_count": 33,
   "id": "ae10defb",
   "metadata": {
    "id": "ae10defb",
    "tags": []
   },
   "outputs": [],
   "source": [
    "processing_instance_type = ParameterString(name=\"ProcessingInstanceType\", default_value=\"ml.m5.xlarge\")\n",
    "processing_instance_count = ParameterInteger(name=\"ProcessingInstanceCount\", default_value=1)\n",
    "processing_script = ParameterString(name=\"ProcessingScript\", default_value=\"./src/processing_sklearn.py\")"
   ]
  },
  {
   "cell_type": "code",
   "execution_count": 34,
   "id": "76708670",
   "metadata": {
    "id": "76708670",
    "tags": []
   },
   "outputs": [],
   "source": [
    "processing_output_destination = f\"s3://{bucket}/{s3_prefix}/data\"\n",
    "\n",
    "sklearn_processor = SKLearnProcessor(\n",
    "    instance_type=\"ml.m5.xlarge\", \n",
    "    instance_count=processing_instance_count,\n",
    "    framework_version=\"1.0-1\",    \n",
    "    base_job_name=base_job_prefix + \"-preprocessing\",\n",
    "    sagemaker_session=sagemaker_session,    \n",
    "    role=role\n",
    ")\n",
    "\n",
    "step_process = ProcessingStep(\n",
    "    name=\"ProcessDataForTraining\",\n",
    "    #cache_config=cache_config,\n",
    "    processor=sklearn_processor,\n",
    "    inputs=[\n",
    "        # 여기에 step_data_collection의 file_name을 전달해줍니다.\n",
    "        ProcessingInput(\n",
    "            input_name='file_name',\n",
    "            source=step_data_collection.properties.ProcessingOutputConfig.Outputs['file_name'].S3Output.S3Uri,\n",
    "            destination=\"/opt/ml/processing/file_name\",\n",
    "        ),\n",
    "    ],\n",
    "        \n",
    "    job_arguments=[\"--model_id\", model_id_,\n",
    "                   \"--tokenizer_id\", tokenizer_id_,\n",
    "                   \"--dataset_name\", dataset_name_,\n",
    "                   \"--transformers_version\", transformers_version,\n",
    "                   \"--pytorch_version\", pytorch_version,\n",
    "                   #\"--file_name\", file_name  # file_name을 job_arguments로 추가\n",
    "                   \n",
    "                  ],\n",
    "    outputs=[\n",
    "        ProcessingOutput(\n",
    "            output_name=\"train\",\n",
    "            destination=f\"{processing_output_destination}/train\",\n",
    "            source=\"/opt/ml/processing/train\",\n",
    "        ),\n",
    "        ProcessingOutput(\n",
    "            output_name=\"validation\",\n",
    "            destination=f\"{processing_output_destination}/test\",\n",
    "            source=\"/opt/ml/processing/validation\",\n",
    "        ),\n",
    "        ProcessingOutput(\n",
    "            output_name=\"test\",\n",
    "            destination=f\"{processing_output_destination}/test\",\n",
    "            source=\"/opt/ml/processing/test\",\n",
    "        )        \n",
    "    ],\n",
    "    code=\"./src/processing_sklearn.py\"\n",
    ")"
   ]
  },
  {
   "cell_type": "markdown",
   "id": "e008ef40",
   "metadata": {
    "id": "e008ef40"
   },
   "source": [
    "###  Model Training Step"
   ]
  },
  {
   "cell_type": "code",
   "execution_count": 35,
   "id": "a7867b16",
   "metadata": {
    "id": "a7867b16",
    "tags": []
   },
   "outputs": [],
   "source": [
    "# training step parameters\n",
    "training_entry_point = ParameterString(name=\"TrainingEntryPoint\", default_value=\"train.py\")\n",
    "training_source_dir = ParameterString(name=\"TrainingSourceDir\", default_value=\"./src\")\n",
    "training_instance_type = ParameterString(name=\"TrainingInstanceType\", default_value=\"ml.p3.8xlarge\")\n",
    "training_instance_count = ParameterInteger(name=\"TrainingInstanceCount\", default_value=1)\n",
    "\n",
    "# hyperparameters, which are passed into the training job\n",
    "n_gpus = ParameterString(name=\"NumGPUs\", default_value=\"1\")\n",
    "epochs = ParameterString(name=\"Epochs\", default_value=\"1\")\n",
    "seed = ParameterString(name=\"Seed\", default_value=\"42\")\n",
    "train_batch_size = ParameterString(name=\"TrainBatchSize\", default_value=\"1\")\n",
    "eval_batch_size = ParameterString(name=\"EvalBatchSize\", default_value=\"2\")           \n",
    "learning_rate = ParameterString(name=\"LearningRate\", default_value=\"5e-5\") \n",
    "\n",
    "model_id = ParameterString(name=\"ModelId\", default_value=model_id_)\n",
    "tokenizer_id = ParameterString(name=\"TokenizerId\", default_value=tokenizer_id_)\n",
    "dataset_name = ParameterString(name=\"DatasetName\", default_value=dataset_name_)"
   ]
  },
  {
   "cell_type": "code",
   "execution_count": 36,
   "id": "7c19a3c4",
   "metadata": {
    "id": "7c19a3c4",
    "tags": []
   },
   "outputs": [],
   "source": [
    "hyperparameters = {\n",
    "    'n_gpus': n_gpus,                       # number of GPUs per instance\n",
    "    'epochs': epochs,                       # number of training epochs\n",
    "    'seed': seed,                           # seed\n",
    "    'train_batch_size': train_batch_size,   # batch size for training\n",
    "    'eval_batch_size': eval_batch_size,     # batch size for evaluation\n",
    "    'warmup_steps': 0,                      # warmup steps\n",
    "    'learning_rate': learning_rate,         # learning rate used during training\n",
    "    'tokenizer_id': model_id,               # pre-trained tokenizer\n",
    "    'model_id': tokenizer_id                # pre-trained model\n",
    "} \n",
    "\n",
    "chkpt_s3_path = f's3://{bucket}/{s3_prefix}/processing/checkpoints'"
   ]
  },
  {
   "cell_type": "code",
   "execution_count": 37,
   "id": "e654d8cd",
   "metadata": {
    "id": "e654d8cd",
    "tags": []
   },
   "outputs": [],
   "source": [
    "huggingface_estimator = HuggingFace(\n",
    "    entry_point=\"train.py\",\n",
    "    source_dir=\"./src\",\n",
    "    base_job_name=base_job_prefix + \"-training\",\n",
    "    instance_type=\"ml.p3.8xlarge\",\n",
    "    instance_count=training_instance_count,\n",
    "    role=role,\n",
    "    transformers_version=transformers_version,\n",
    "    pytorch_version=pytorch_version,\n",
    "    py_version=py_version,\n",
    "    hyperparameters=hyperparameters,\n",
    "    sagemaker_session=sagemaker_session,    \n",
    "    disable_profiler=True,\n",
    "    debugger_hook_config=False,\n",
    "    checkpoint_s3_uri=chkpt_s3_path,\n",
    "    checkpoint_local_path='/opt/ml/checkpoints'\n",
    ")\n",
    "\n",
    "step_train = TrainingStep(\n",
    "    name=\"TrainModel\",\n",
    "    estimator=huggingface_estimator,\n",
    "    inputs={\n",
    "        \"train\": TrainingInput(\n",
    "            s3_data=step_process.properties.ProcessingOutputConfig.Outputs[\n",
    "                \"train\"\n",
    "            ].S3Output.S3Uri\n",
    "        ),\n",
    "        \"test\": TrainingInput(\n",
    "            s3_data=step_process.properties.ProcessingOutputConfig.Outputs[\n",
    "                \"test\"\n",
    "            ].S3Output.S3Uri\n",
    "        ),\n",
    "    },\n",
    "    cache_config=cache_config,\n",
    ")"
   ]
  },
  {
   "cell_type": "markdown",
   "id": "d2609fee",
   "metadata": {
    "id": "d2609fee"
   },
   "source": [
    "### Model evaluation Step"
   ]
  },
  {
   "cell_type": "code",
   "execution_count": 38,
   "id": "703b47a7",
   "metadata": {
    "id": "703b47a7",
    "tags": []
   },
   "outputs": [],
   "source": [
    "evaluation_script = ParameterString(name=\"EvaluationScript\", default_value=\"./src/evaluate.py\")\n",
    "evaluation_instance_type = ParameterString(name=\"EvaluationInstanceType\", default_value=\"ml.m5.xlarge\")\n",
    "evaluation_instance_count = ParameterInteger(name=\"EvaluationInstanceCount\", default_value=1)"
   ]
  },
  {
   "cell_type": "code",
   "execution_count": 40,
   "id": "874b539e",
   "metadata": {
    "id": "874b539e",
    "tags": []
   },
   "outputs": [],
   "source": [
    "script_eval = SKLearnProcessor(\n",
    "    framework_version=\"1.0-1\",\n",
    "    instance_type=\"ml.m5.xlarge\",\n",
    "    instance_count=evaluation_instance_count,\n",
    "    base_job_name=base_job_prefix + \"-evaluation\",\n",
    "    sagemaker_session=sagemaker_session,\n",
    "    role=role,\n",
    ")\n",
    "\n",
    "evaluation_report = PropertyFile(\n",
    "    name=\"EvaluationReport\",\n",
    "    output_name=\"evaluation\",\n",
    "    path=\"evaluation.json\",\n",
    ")\n",
    "\n",
    "step_eval = ProcessingStep(\n",
    "    name=\"EvalLoss\",\n",
    "    processor=script_eval,\n",
    "    inputs=[\n",
    "        ProcessingInput(\n",
    "            source=step_train.properties.ModelArtifacts.S3ModelArtifacts,\n",
    "            destination=\"/opt/ml/processing/model\",\n",
    "        )\n",
    "    ],\n",
    "    outputs=[\n",
    "        ProcessingOutput(\n",
    "            output_name=\"evaluation\",\n",
    "            source=\"/opt/ml/processing/evaluation\",\n",
    "            destination=f\"s3://{bucket}/{s3_prefix}/evaluation_report\",\n",
    "        ),\n",
    "    ],\n",
    "    code=\"./src/evaluate.py\",\n",
    "    property_files=[evaluation_report],\n",
    "    cache_config=cache_config,\n",
    ")"
   ]
  },
  {
   "cell_type": "markdown",
   "id": "da6b7f5d",
   "metadata": {
    "id": "da6b7f5d"
   },
   "source": [
    "### Register the model"
   ]
  },
  {
   "cell_type": "code",
   "execution_count": 41,
   "id": "e860717a",
   "metadata": {
    "id": "e860717a",
    "tags": []
   },
   "outputs": [],
   "source": [
    "model = HuggingFaceModel(\n",
    "    model_data=step_train.properties.ModelArtifacts.S3ModelArtifacts,\n",
    "    role=role,\n",
    "    transformers_version=transformers_version,\n",
    "    pytorch_version=pytorch_version,\n",
    "    py_version=py_version,\n",
    "    sagemaker_session=sagemaker_session,\n",
    ")\n",
    "model_package_group_name = \"LJPModelPackageGroup\"\n",
    "step_register = RegisterModel(\n",
    "    name=\"RegisterModel\",\n",
    "    model=model,\n",
    "    content_types=[\"application/json\"],\n",
    "    response_types=[\"application/json\"],\n",
    "    inference_instances=[\"ml.m5.xlarge\", \"ml.g4dn.xlarge\"],\n",
    "    transform_instances=[\"ml.m5.xlarge\", \"ml.g4dn.xlarge\"],\n",
    "    model_package_group_name=model_package_group_name,\n",
    "    approval_status=\"Approved\",\n",
    ")"
   ]
  },
  {
   "cell_type": "markdown",
   "id": "219b6810",
   "metadata": {
    "id": "219b6810"
   },
   "source": [
    "### Model Deployment\n"
   ]
  },
  {
   "cell_type": "code",
   "execution_count": 43,
   "id": "d3f838d5",
   "metadata": {
    "id": "d3f838d5",
    "tags": []
   },
   "outputs": [
    {
     "name": "stdout",
     "output_type": "stream",
     "text": [
      "Using ARN from existing role: sagemaker-pipelines-model-deployment-role\n"
     ]
    }
   ],
   "source": [
    "# custom Helper Step for ModelDeployment\n",
    "from utils.deploy_step import ModelDeployment\n",
    "\n",
    "# we will use the iam role from the notebook session for the created endpoint\n",
    "# this role will be attached to our endpoint and need permissions, e.g. to download assets from s3\n",
    "sagemaker_endpoint_role=sagemaker.get_execution_role()\n",
    "model_n_ = \"lawcompany/LJP\"\n",
    "model_name = f\"{model_n_.split('/')[-1]}-{time.strftime('%Y-%m-%d-%H-%M-%S', time.localtime())}\"\n",
    "\n",
    "step_deployment = ModelDeployment(\n",
    "    model_name=model_name,\n",
    "    registered_model=step_register.steps[0],\n",
    "    endpoint_instance_type=\"ml.m5.xlarge\",\n",
    "    sagemaker_endpoint_role=sagemaker_endpoint_role,\n",
    "    autoscaling_policy=None,\n",
    ")"
   ]
  },
  {
   "cell_type": "markdown",
   "id": "ed2bb0b5",
   "metadata": {
    "id": "ed2bb0b5"
   },
   "source": [
    "### Condition for deployment\n"
   ]
  },
  {
   "cell_type": "code",
   "execution_count": 44,
   "id": "1052caf6",
   "metadata": {
    "id": "1052caf6",
    "tags": []
   },
   "outputs": [],
   "source": [
    "threshold_accuracy = ParameterFloat(name=\"ThresholdAccuracy\", default_value=0.95)"
   ]
  },
  {
   "cell_type": "code",
   "execution_count": 45,
   "id": "a4411610",
   "metadata": {
    "id": "a4411610",
    "tags": []
   },
   "outputs": [],
   "source": [
    "cond_gte = ConditionGreaterThanOrEqualTo(\n",
    "    left=JsonGet(\n",
    "        step_name=step_eval.name,\n",
    "        property_file=evaluation_report,\n",
    "        json_path=\"eval_accuracy\",\n",
    "    ),\n",
    "    right=threshold_accuracy,\n",
    ")\n",
    "\n",
    "step_cond = ConditionStep(\n",
    "    name=\"CheckEvalAccuracy\",\n",
    "    conditions=[cond_gte],\n",
    "    if_steps=[step_register, step_deployment],\n",
    "    else_steps=[],\n",
    ")"
   ]
  },
  {
   "cell_type": "markdown",
   "id": "8a734ad7",
   "metadata": {
    "id": "8a734ad7"
   },
   "source": [
    "\n",
    "\n",
    "## Pipeline definition and execution\n",
    "---"
   ]
  },
  {
   "cell_type": "code",
   "execution_count": 46,
   "id": "443d6b52",
   "metadata": {
    "id": "443d6b52",
    "tags": []
   },
   "outputs": [],
   "source": [
    "pipeline = Pipeline(\n",
    "    name=f\"LJP-Pipeline\",\n",
    "    parameters=[\n",
    "        file_name,\n",
    "        model_id,\n",
    "        tokenizer_id,        \n",
    "        dataset_name,\n",
    "        processing_instance_type,\n",
    "        processing_instance_count,\n",
    "        processing_script,\n",
    "        training_entry_point,\n",
    "        training_source_dir,\n",
    "        training_instance_type,\n",
    "        training_instance_count,\n",
    "        evaluation_script,\n",
    "        evaluation_instance_type,\n",
    "        evaluation_instance_count,\n",
    "        threshold_accuracy,\n",
    "        n_gpus,\n",
    "        epochs,\n",
    "        seed,\n",
    "        eval_batch_size,\n",
    "        train_batch_size,\n",
    "        learning_rate,\n",
    "    ],\n",
    "    steps=[step_data_collection, step_process, step_train, step_eval, step_cond],\n",
    "    sagemaker_session=sagemaker_session,\n",
    ")"
   ]
  },
  {
   "cell_type": "code",
   "execution_count": 47,
   "id": "4ce7e899",
   "metadata": {
    "id": "4ce7e899",
    "tags": []
   },
   "outputs": [
    {
     "name": "stderr",
     "output_type": "stream",
     "text": [
      "Popping out 'CertifyForMarketplace' from the pipeline definition since it will be overridden in pipeline execution time.\n"
     ]
    },
    {
     "data": {
      "text/plain": [
       "{'Version': '2020-12-01',\n",
       " 'Metadata': {},\n",
       " 'Parameters': [{'Name': 'FileName',\n",
       "   'Type': 'String',\n",
       "   'DefaultValue': 'final_data.csv'},\n",
       "  {'Name': 'ModelId',\n",
       "   'Type': 'String',\n",
       "   'DefaultValue': 'lawcompany/KLAID_LJP_base'},\n",
       "  {'Name': 'TokenizerId',\n",
       "   'Type': 'String',\n",
       "   'DefaultValue': 'lawcompany/KLAID_LJP_base'},\n",
       "  {'Name': 'DatasetName',\n",
       "   'Type': 'String',\n",
       "   'DefaultValue': 'lawcompany/KLAID'},\n",
       "  {'Name': 'ProcessingInstanceType',\n",
       "   'Type': 'String',\n",
       "   'DefaultValue': 'ml.m5.xlarge'},\n",
       "  {'Name': 'ProcessingInstanceCount', 'Type': 'Integer', 'DefaultValue': 1},\n",
       "  {'Name': 'ProcessingScript',\n",
       "   'Type': 'String',\n",
       "   'DefaultValue': './src/processing_sklearn.py'},\n",
       "  {'Name': 'TrainingEntryPoint', 'Type': 'String', 'DefaultValue': 'train.py'},\n",
       "  {'Name': 'TrainingSourceDir', 'Type': 'String', 'DefaultValue': './src'},\n",
       "  {'Name': 'TrainingInstanceType',\n",
       "   'Type': 'String',\n",
       "   'DefaultValue': 'ml.p3.8xlarge'},\n",
       "  {'Name': 'TrainingInstanceCount', 'Type': 'Integer', 'DefaultValue': 1},\n",
       "  {'Name': 'EvaluationScript',\n",
       "   'Type': 'String',\n",
       "   'DefaultValue': './src/evaluate.py'},\n",
       "  {'Name': 'EvaluationInstanceType',\n",
       "   'Type': 'String',\n",
       "   'DefaultValue': 'ml.m5.xlarge'},\n",
       "  {'Name': 'EvaluationInstanceCount', 'Type': 'Integer', 'DefaultValue': 1},\n",
       "  {'Name': 'ThresholdAccuracy', 'Type': 'Float', 'DefaultValue': 0.95},\n",
       "  {'Name': 'NumGPUs', 'Type': 'String', 'DefaultValue': '1'},\n",
       "  {'Name': 'Epochs', 'Type': 'String', 'DefaultValue': '1'},\n",
       "  {'Name': 'Seed', 'Type': 'String', 'DefaultValue': '42'},\n",
       "  {'Name': 'EvalBatchSize', 'Type': 'String', 'DefaultValue': '2'},\n",
       "  {'Name': 'TrainBatchSize', 'Type': 'String', 'DefaultValue': '1'},\n",
       "  {'Name': 'LearningRate', 'Type': 'String', 'DefaultValue': '5e-5'}],\n",
       " 'PipelineExperimentConfig': {'ExperimentName': {'Get': 'Execution.PipelineName'},\n",
       "  'TrialName': {'Get': 'Execution.PipelineExecutionId'}},\n",
       " 'Steps': [{'Name': 'DataProcessing',\n",
       "   'Type': 'Processing',\n",
       "   'Arguments': {'ProcessingResources': {'ClusterConfig': {'InstanceType': 'ml.m5.xlarge',\n",
       "      'InstanceCount': 1,\n",
       "      'VolumeSizeInGB': 30}},\n",
       "    'AppSpecification': {'ImageUri': '683313688378.dkr.ecr.us-east-1.amazonaws.com/sagemaker-scikit-learn:0.23-1-cpu-py3',\n",
       "     'ContainerEntrypoint': ['python3',\n",
       "      '/opt/ml/processing/input/code/collecting_data.py']},\n",
       "    'RoleArn': 'arn:aws:iam::353411055907:role/service-role/AmazonSageMaker-ExecutionRole-20230315T235247',\n",
       "    'ProcessingInputs': [{'InputName': 'input-1',\n",
       "      'AppManaged': False,\n",
       "      'S3Input': {'S3Uri': 's3://sagemaker-us-east-1-353411055907/GP-LJP-mlops/data/labels.csv',\n",
       "       'LocalPath': '/opt/ml/processing/input',\n",
       "       'S3DataType': 'S3Prefix',\n",
       "       'S3InputMode': 'File',\n",
       "       'S3DataDistributionType': 'FullyReplicated',\n",
       "       'S3CompressionType': 'None'}},\n",
       "     {'InputName': 'code',\n",
       "      'AppManaged': False,\n",
       "      'S3Input': {'S3Uri': 's3://sagemaker-us-east-1-353411055907/DataProcessing-6e5d440a68c6f2229f512a44e48bf089/input/code/collecting_data.py',\n",
       "       'LocalPath': '/opt/ml/processing/input/code',\n",
       "       'S3DataType': 'S3Prefix',\n",
       "       'S3InputMode': 'File',\n",
       "       'S3DataDistributionType': 'FullyReplicated',\n",
       "       'S3CompressionType': 'None'}}],\n",
       "    'ProcessingOutputConfig': {'Outputs': [{'OutputName': 'file_name',\n",
       "       'AppManaged': False,\n",
       "       'S3Output': {'S3Uri': 's3://sagemaker-us-east-1-353411055907/GP-LJP-mlops/data/collected_data',\n",
       "        'LocalPath': '/opt/ml/processing/output',\n",
       "        'S3UploadMode': 'EndOfJob'}},\n",
       "      {'OutputName': 'output-2',\n",
       "       'AppManaged': False,\n",
       "       'S3Output': {'S3Uri': 's3://sagemaker-us-east-1-353411055907/GP-LJP-mlops/data/collected_data',\n",
       "        'LocalPath': '/opt/ml/processing/processed_output',\n",
       "        'S3UploadMode': 'EndOfJob'}}]}}},\n",
       "  {'Name': 'ProcessDataForTraining',\n",
       "   'Type': 'Processing',\n",
       "   'Arguments': {'ProcessingResources': {'ClusterConfig': {'InstanceType': 'ml.m5.xlarge',\n",
       "      'InstanceCount': {'Get': 'Parameters.ProcessingInstanceCount'},\n",
       "      'VolumeSizeInGB': 30}},\n",
       "    'AppSpecification': {'ImageUri': '683313688378.dkr.ecr.us-east-1.amazonaws.com/sagemaker-scikit-learn:1.0-1-cpu-py3',\n",
       "     'ContainerArguments': ['--model_id',\n",
       "      'lawcompany/KLAID_LJP_base',\n",
       "      '--tokenizer_id',\n",
       "      'lawcompany/KLAID_LJP_base',\n",
       "      '--dataset_name',\n",
       "      'lawcompany/KLAID',\n",
       "      '--transformers_version',\n",
       "      '4.17.0',\n",
       "      '--pytorch_version',\n",
       "      '1.10.2'],\n",
       "     'ContainerEntrypoint': ['python3',\n",
       "      '/opt/ml/processing/input/code/processing_sklearn.py']},\n",
       "    'RoleArn': 'arn:aws:iam::353411055907:role/service-role/AmazonSageMaker-ExecutionRole-20230315T235247',\n",
       "    'ProcessingInputs': [{'InputName': 'file_name',\n",
       "      'AppManaged': False,\n",
       "      'S3Input': {'S3Uri': {'Get': \"Steps.DataProcessing.ProcessingOutputConfig.Outputs['file_name'].S3Output.S3Uri\"},\n",
       "       'LocalPath': '/opt/ml/processing/file_name',\n",
       "       'S3DataType': 'S3Prefix',\n",
       "       'S3InputMode': 'File',\n",
       "       'S3DataDistributionType': 'FullyReplicated',\n",
       "       'S3CompressionType': 'None'}},\n",
       "     {'InputName': 'code',\n",
       "      'AppManaged': False,\n",
       "      'S3Input': {'S3Uri': 's3://sagemaker-us-east-1-353411055907/ProcessDataForTraining-7f608d8af1d5d8125fa52ec0691a9d48/input/code/processing_sklearn.py',\n",
       "       'LocalPath': '/opt/ml/processing/input/code',\n",
       "       'S3DataType': 'S3Prefix',\n",
       "       'S3InputMode': 'File',\n",
       "       'S3DataDistributionType': 'FullyReplicated',\n",
       "       'S3CompressionType': 'None'}}],\n",
       "    'ProcessingOutputConfig': {'Outputs': [{'OutputName': 'train',\n",
       "       'AppManaged': False,\n",
       "       'S3Output': {'S3Uri': 's3://sagemaker-us-east-1-353411055907/GP-LJP-mlops/data/train',\n",
       "        'LocalPath': '/opt/ml/processing/train',\n",
       "        'S3UploadMode': 'EndOfJob'}},\n",
       "      {'OutputName': 'validation',\n",
       "       'AppManaged': False,\n",
       "       'S3Output': {'S3Uri': 's3://sagemaker-us-east-1-353411055907/GP-LJP-mlops/data/test',\n",
       "        'LocalPath': '/opt/ml/processing/validation',\n",
       "        'S3UploadMode': 'EndOfJob'}},\n",
       "      {'OutputName': 'test',\n",
       "       'AppManaged': False,\n",
       "       'S3Output': {'S3Uri': 's3://sagemaker-us-east-1-353411055907/GP-LJP-mlops/data/test',\n",
       "        'LocalPath': '/opt/ml/processing/test',\n",
       "        'S3UploadMode': 'EndOfJob'}}]}}},\n",
       "  {'Name': 'TrainModel',\n",
       "   'Type': 'Training',\n",
       "   'Arguments': {'AlgorithmSpecification': {'TrainingInputMode': 'File',\n",
       "     'TrainingImage': '763104351884.dkr.ecr.us-east-1.amazonaws.com/huggingface-pytorch-training:1.10.2-transformers4.17.0-gpu-py38-cu113-ubuntu20.04',\n",
       "     'EnableSageMakerMetricsTimeSeries': True},\n",
       "    'OutputDataConfig': {'S3OutputPath': 's3://sagemaker-us-east-1-353411055907/'},\n",
       "    'StoppingCondition': {'MaxRuntimeInSeconds': 86400},\n",
       "    'ResourceConfig': {'VolumeSizeInGB': 30,\n",
       "     'InstanceCount': {'Get': 'Parameters.TrainingInstanceCount'},\n",
       "     'InstanceType': 'ml.p3.8xlarge'},\n",
       "    'RoleArn': 'arn:aws:iam::353411055907:role/service-role/AmazonSageMaker-ExecutionRole-20230315T235247',\n",
       "    'InputDataConfig': [{'DataSource': {'S3DataSource': {'S3DataType': 'S3Prefix',\n",
       "        'S3Uri': {'Get': \"Steps.ProcessDataForTraining.ProcessingOutputConfig.Outputs['train'].S3Output.S3Uri\"},\n",
       "        'S3DataDistributionType': 'FullyReplicated'}},\n",
       "      'ChannelName': 'train'},\n",
       "     {'DataSource': {'S3DataSource': {'S3DataType': 'S3Prefix',\n",
       "        'S3Uri': {'Get': \"Steps.ProcessDataForTraining.ProcessingOutputConfig.Outputs['test'].S3Output.S3Uri\"},\n",
       "        'S3DataDistributionType': 'FullyReplicated'}},\n",
       "      'ChannelName': 'test'}],\n",
       "    'HyperParameters': {'n_gpus': {'Get': 'Parameters.NumGPUs'},\n",
       "     'epochs': {'Get': 'Parameters.Epochs'},\n",
       "     'seed': {'Get': 'Parameters.Seed'},\n",
       "     'train_batch_size': {'Get': 'Parameters.TrainBatchSize'},\n",
       "     'eval_batch_size': {'Get': 'Parameters.EvalBatchSize'},\n",
       "     'warmup_steps': '0',\n",
       "     'learning_rate': {'Get': 'Parameters.LearningRate'},\n",
       "     'tokenizer_id': {'Get': 'Parameters.ModelId'},\n",
       "     'model_id': {'Get': 'Parameters.TokenizerId'},\n",
       "     'sagemaker_submit_directory': '\"s3://sagemaker-us-east-1-353411055907/TrainModel-9d51989e94776ebd72380800aa7e869d/source/sourcedir.tar.gz\"',\n",
       "     'sagemaker_program': '\"train.py\"',\n",
       "     'sagemaker_container_log_level': '20',\n",
       "     'sagemaker_region': '\"us-east-1\"'},\n",
       "    'CheckpointConfig': {'S3Uri': 's3://sagemaker-us-east-1-353411055907/GP-LJP-mlops/processing/checkpoints',\n",
       "     'LocalPath': '/opt/ml/checkpoints'},\n",
       "    'ProfilerConfig': {'DisableProfiler': True}},\n",
       "   'CacheConfig': {'Enabled': True, 'ExpireAfter': '7d'}},\n",
       "  {'Name': 'EvalLoss',\n",
       "   'Type': 'Processing',\n",
       "   'Arguments': {'ProcessingResources': {'ClusterConfig': {'InstanceType': 'ml.m5.xlarge',\n",
       "      'InstanceCount': {'Get': 'Parameters.EvaluationInstanceCount'},\n",
       "      'VolumeSizeInGB': 30}},\n",
       "    'AppSpecification': {'ImageUri': '683313688378.dkr.ecr.us-east-1.amazonaws.com/sagemaker-scikit-learn:1.0-1-cpu-py3',\n",
       "     'ContainerEntrypoint': ['python3',\n",
       "      '/opt/ml/processing/input/code/evaluate.py']},\n",
       "    'RoleArn': 'arn:aws:iam::353411055907:role/service-role/AmazonSageMaker-ExecutionRole-20230315T235247',\n",
       "    'ProcessingInputs': [{'InputName': 'input-1',\n",
       "      'AppManaged': False,\n",
       "      'S3Input': {'S3Uri': {'Get': 'Steps.TrainModel.ModelArtifacts.S3ModelArtifacts'},\n",
       "       'LocalPath': '/opt/ml/processing/model',\n",
       "       'S3DataType': 'S3Prefix',\n",
       "       'S3InputMode': 'File',\n",
       "       'S3DataDistributionType': 'FullyReplicated',\n",
       "       'S3CompressionType': 'None'}},\n",
       "     {'InputName': 'code',\n",
       "      'AppManaged': False,\n",
       "      'S3Input': {'S3Uri': 's3://sagemaker-us-east-1-353411055907/EvalLoss-fe4cbb9e83a85e0c1bca3690214ab835/input/code/evaluate.py',\n",
       "       'LocalPath': '/opt/ml/processing/input/code',\n",
       "       'S3DataType': 'S3Prefix',\n",
       "       'S3InputMode': 'File',\n",
       "       'S3DataDistributionType': 'FullyReplicated',\n",
       "       'S3CompressionType': 'None'}}],\n",
       "    'ProcessingOutputConfig': {'Outputs': [{'OutputName': 'evaluation',\n",
       "       'AppManaged': False,\n",
       "       'S3Output': {'S3Uri': 's3://sagemaker-us-east-1-353411055907/GP-LJP-mlops/evaluation_report',\n",
       "        'LocalPath': '/opt/ml/processing/evaluation',\n",
       "        'S3UploadMode': 'EndOfJob'}}]}},\n",
       "   'CacheConfig': {'Enabled': True, 'ExpireAfter': '7d'},\n",
       "   'PropertyFiles': [{'PropertyFileName': 'EvaluationReport',\n",
       "     'OutputName': 'evaluation',\n",
       "     'FilePath': 'evaluation.json'}]},\n",
       "  {'Name': 'CheckEvalAccuracy',\n",
       "   'Type': 'Condition',\n",
       "   'Arguments': {'Conditions': [{'Type': 'GreaterThanOrEqualTo',\n",
       "      'LeftValue': {'Std:JsonGet': {'PropertyFile': {'Get': 'Steps.EvalLoss.PropertyFiles.EvaluationReport'},\n",
       "        'Path': 'eval_accuracy'}},\n",
       "      'RightValue': {'Get': 'Parameters.ThresholdAccuracy'}}],\n",
       "    'IfSteps': [{'Name': 'RegisterModel-RegisterModel',\n",
       "      'Type': 'RegisterModel',\n",
       "      'Arguments': {'ModelPackageGroupName': 'LJPModelPackageGroup',\n",
       "       'InferenceSpecification': {'Containers': [{'Image': '763104351884.dkr.ecr.us-east-1.amazonaws.com/huggingface-pytorch-inference:1.10.2-transformers4.17.0-cpu-py38-ubuntu20.04',\n",
       "          'Environment': {'SAGEMAKER_PROGRAM': '',\n",
       "           'SAGEMAKER_SUBMIT_DIRECTORY': '',\n",
       "           'SAGEMAKER_CONTAINER_LOG_LEVEL': '20',\n",
       "           'SAGEMAKER_REGION': 'us-east-1'},\n",
       "          'ModelDataUrl': {'Get': 'Steps.TrainModel.ModelArtifacts.S3ModelArtifacts'}}],\n",
       "        'SupportedContentTypes': ['application/json'],\n",
       "        'SupportedResponseMIMETypes': ['application/json'],\n",
       "        'SupportedRealtimeInferenceInstanceTypes': ['ml.m5.xlarge',\n",
       "         'ml.g4dn.xlarge'],\n",
       "        'SupportedTransformInstanceTypes': ['ml.m5.xlarge', 'ml.g4dn.xlarge']},\n",
       "       'ModelApprovalStatus': 'Approved'}},\n",
       "     {'Name': 'ModelDeployment',\n",
       "      'Type': 'Lambda',\n",
       "      'Arguments': {'model_name': 'LJP-2023-09-05-17-03-0909-05-17-03-09',\n",
       "       'endpoint_config_name': 'LJP-2023-09-05-17-03-0909-05-17-03-09',\n",
       "       'endpoint_name': 'LJP-2023-09-05-17-03-09',\n",
       "       'endpoint_instance_type': 'ml.m5.xlarge',\n",
       "       'model_package_arn': {'Get': 'Steps.RegisterModel-RegisterModel.ModelPackageArn'},\n",
       "       'role': 'arn:aws:iam::353411055907:role/service-role/AmazonSageMaker-ExecutionRole-20230315T235247'},\n",
       "      'FunctionArn': 'arn:aws:lambda:us-east-1:353411055907:function:sagemaker-pipelines-model-deployment-09-05-17-03-09',\n",
       "      'OutputParameters': [{'OutputName': 'statusCode',\n",
       "        'OutputType': 'String'},\n",
       "       {'OutputName': 'body', 'OutputType': 'String'},\n",
       "       {'OutputName': 'other_key', 'OutputType': 'String'}]}],\n",
       "    'ElseSteps': []}}]}"
      ]
     },
     "execution_count": 47,
     "metadata": {},
     "output_type": "execute_result"
    }
   ],
   "source": [
    "# pipeline definition\n",
    "import json\n",
    "\n",
    "definition = json.loads(pipeline.definition())\n",
    "definition"
   ]
  },
  {
   "cell_type": "code",
   "execution_count": 48,
   "id": "b928bbcb",
   "metadata": {
    "id": "b928bbcb",
    "tags": []
   },
   "outputs": [
    {
     "name": "stderr",
     "output_type": "stream",
     "text": [
      "Popping out 'CertifyForMarketplace' from the pipeline definition since it will be overridden in pipeline execution time.\n",
      "Popping out 'CertifyForMarketplace' from the pipeline definition since it will be overridden in pipeline execution time.\n"
     ]
    },
    {
     "data": {
      "text/plain": [
       "{'PipelineArn': 'arn:aws:sagemaker:us-east-1:353411055907:pipeline/ljp-pipeline',\n",
       " 'ResponseMetadata': {'RequestId': '5f45c8c6-b246-42f6-b166-9a094ca61349',\n",
       "  'HTTPStatusCode': 200,\n",
       "  'HTTPHeaders': {'x-amzn-requestid': '5f45c8c6-b246-42f6-b166-9a094ca61349',\n",
       "   'content-type': 'application/x-amz-json-1.1',\n",
       "   'content-length': '80',\n",
       "   'date': 'Tue, 05 Sep 2023 17:03:14 GMT'},\n",
       "  'RetryAttempts': 0}}"
      ]
     },
     "execution_count": 48,
     "metadata": {},
     "output_type": "execute_result"
    }
   ],
   "source": [
    "pipeline.upsert(role_arn=role)"
   ]
  },
  {
   "cell_type": "code",
   "execution_count": 49,
   "id": "2265a690",
   "metadata": {
    "id": "2265a690",
    "tags": []
   },
   "outputs": [],
   "source": [
    "# Run the pipeline\n",
    "execution = pipeline.start()"
   ]
  },
  {
   "cell_type": "code",
   "execution_count": 50,
   "id": "86a497cc",
   "metadata": {
    "id": "86a497cc",
    "tags": []
   },
   "outputs": [
    {
     "data": {
      "text/plain": [
       "{'PipelineArn': 'arn:aws:sagemaker:us-east-1:353411055907:pipeline/ljp-pipeline',\n",
       " 'PipelineExecutionArn': 'arn:aws:sagemaker:us-east-1:353411055907:pipeline/ljp-pipeline/execution/gyhdro4q6e7l',\n",
       " 'PipelineExecutionDisplayName': 'execution-1693933395497',\n",
       " 'PipelineExecutionStatus': 'Executing',\n",
       " 'CreationTime': datetime.datetime(2023, 9, 5, 17, 3, 15, 380000, tzinfo=tzlocal()),\n",
       " 'LastModifiedTime': datetime.datetime(2023, 9, 5, 17, 3, 15, 380000, tzinfo=tzlocal()),\n",
       " 'CreatedBy': {'UserProfileArn': 'arn:aws:sagemaker:us-east-1:353411055907:user-profile/d-irdpcbrlhtyb/default-1680148488767',\n",
       "  'UserProfileName': 'default-1680148488767',\n",
       "  'DomainId': 'd-irdpcbrlhtyb'},\n",
       " 'LastModifiedBy': {'UserProfileArn': 'arn:aws:sagemaker:us-east-1:353411055907:user-profile/d-irdpcbrlhtyb/default-1680148488767',\n",
       "  'UserProfileName': 'default-1680148488767',\n",
       "  'DomainId': 'd-irdpcbrlhtyb'},\n",
       " 'ResponseMetadata': {'RequestId': '0a25a826-5422-4d9f-89d5-8da77aa78b40',\n",
       "  'HTTPStatusCode': 200,\n",
       "  'HTTPHeaders': {'x-amzn-requestid': '0a25a826-5422-4d9f-89d5-8da77aa78b40',\n",
       "   'content-type': 'application/x-amz-json-1.1',\n",
       "   'content-length': '745',\n",
       "   'date': 'Tue, 05 Sep 2023 17:03:14 GMT'},\n",
       "  'RetryAttempts': 0}}"
      ]
     },
     "execution_count": 50,
     "metadata": {},
     "output_type": "execute_result"
    }
   ],
   "source": [
    "execution.describe()"
   ]
  },
  {
   "cell_type": "code",
   "execution_count": 51,
   "id": "815c45d8",
   "metadata": {
    "id": "815c45d8",
    "tags": []
   },
   "outputs": [],
   "source": [
    "execution.wait()"
   ]
  },
  {
   "cell_type": "code",
   "execution_count": 52,
   "id": "421ab6aa",
   "metadata": {
    "id": "421ab6aa",
    "tags": []
   },
   "outputs": [
    {
     "data": {
      "text/plain": [
       "[{'StepName': 'ModelDeployment',\n",
       "  'StartTime': datetime.datetime(2023, 9, 5, 17, 27, 13, 222000, tzinfo=tzlocal()),\n",
       "  'EndTime': datetime.datetime(2023, 9, 5, 17, 27, 17, 180000, tzinfo=tzlocal()),\n",
       "  'StepStatus': 'Succeeded',\n",
       "  'AttemptCount': 0,\n",
       "  'Metadata': {'Lambda': {'Arn': 'arn:aws:lambda:us-east-1:353411055907:function:sagemaker-pipelines-model-deployment-09-05-17-03-09',\n",
       "    'OutputParameters': [{'Name': 'other_key', 'Value': 'example_value'},\n",
       "     {'Name': 'body', 'Value': '\"Created Endpoint!\"'},\n",
       "     {'Name': 'statusCode', 'Value': '200.0'}]}}},\n",
       " {'StepName': 'RegisterModel-RegisterModel',\n",
       "  'StartTime': datetime.datetime(2023, 9, 5, 17, 27, 10, 958000, tzinfo=tzlocal()),\n",
       "  'EndTime': datetime.datetime(2023, 9, 5, 17, 27, 12, 354000, tzinfo=tzlocal()),\n",
       "  'StepStatus': 'Succeeded',\n",
       "  'AttemptCount': 0,\n",
       "  'Metadata': {'RegisterModel': {'Arn': 'arn:aws:sagemaker:us-east-1:353411055907:model-package/ljpmodelpackagegroup/10'}}},\n",
       " {'StepName': 'CheckEvalAccuracy',\n",
       "  'StartTime': datetime.datetime(2023, 9, 5, 17, 27, 10, 66000, tzinfo=tzlocal()),\n",
       "  'EndTime': datetime.datetime(2023, 9, 5, 17, 27, 10, 422000, tzinfo=tzlocal()),\n",
       "  'StepStatus': 'Succeeded',\n",
       "  'AttemptCount': 0,\n",
       "  'Metadata': {'Condition': {'Outcome': 'True'}}},\n",
       " {'StepName': 'EvalLoss',\n",
       "  'StartTime': datetime.datetime(2023, 9, 5, 17, 22, 11, 596000, tzinfo=tzlocal()),\n",
       "  'EndTime': datetime.datetime(2023, 9, 5, 17, 27, 9, 370000, tzinfo=tzlocal()),\n",
       "  'StepStatus': 'Succeeded',\n",
       "  'AttemptCount': 0,\n",
       "  'Metadata': {'ProcessingJob': {'Arn': 'arn:aws:sagemaker:us-east-1:353411055907:processing-job/pipelines-gyhdro4q6e7l-EvalLoss-DtjLVwF2lf'}}},\n",
       " {'StepName': 'TrainModel',\n",
       "  'StartTime': datetime.datetime(2023, 9, 5, 17, 13, 16, 512000, tzinfo=tzlocal()),\n",
       "  'EndTime': datetime.datetime(2023, 9, 5, 17, 22, 10, 743000, tzinfo=tzlocal()),\n",
       "  'StepStatus': 'Succeeded',\n",
       "  'AttemptCount': 0,\n",
       "  'Metadata': {'TrainingJob': {'Arn': 'arn:aws:sagemaker:us-east-1:353411055907:training-job/pipelines-gyhdro4q6e7l-TrainModel-tBR9QIJ8Tf'}}},\n",
       " {'StepName': 'ProcessDataForTraining',\n",
       "  'StartTime': datetime.datetime(2023, 9, 5, 17, 7, 45, 788000, tzinfo=tzlocal()),\n",
       "  'EndTime': datetime.datetime(2023, 9, 5, 17, 13, 15, 529000, tzinfo=tzlocal()),\n",
       "  'StepStatus': 'Succeeded',\n",
       "  'AttemptCount': 0,\n",
       "  'Metadata': {'ProcessingJob': {'Arn': 'arn:aws:sagemaker:us-east-1:353411055907:processing-job/pipelines-gyhdro4q6e7l-ProcessDataForTraini-EdnCd5GWi5'}}},\n",
       " {'StepName': 'DataProcessing',\n",
       "  'StartTime': datetime.datetime(2023, 9, 5, 17, 3, 17, 24000, tzinfo=tzlocal()),\n",
       "  'EndTime': datetime.datetime(2023, 9, 5, 17, 7, 44, 863000, tzinfo=tzlocal()),\n",
       "  'StepStatus': 'Succeeded',\n",
       "  'AttemptCount': 0,\n",
       "  'Metadata': {'ProcessingJob': {'Arn': 'arn:aws:sagemaker:us-east-1:353411055907:processing-job/pipelines-gyhdro4q6e7l-DataProcessing-xXwJ9rPOeF'}}}]"
      ]
     },
     "execution_count": 52,
     "metadata": {},
     "output_type": "execute_result"
    }
   ],
   "source": [
    "execution.list_steps()"
   ]
  },
  {
   "cell_type": "markdown",
   "id": "46d8821d",
   "metadata": {
    "id": "46d8821d"
   },
   "source": [
    "\n",
    "## Clean up\n",
    "---"
   ]
  },
  {
   "cell_type": "code",
   "execution_count": 53,
   "id": "491afc1c",
   "metadata": {
    "id": "491afc1c",
    "tags": []
   },
   "outputs": [
    {
     "data": {
      "text/plain": [
       "{'ResponseMetadata': {'RequestId': '715ee90a-d0e7-4a93-af7e-81daf7f75bf0',\n",
       "  'HTTPStatusCode': 204,\n",
       "  'HTTPHeaders': {'date': 'Tue, 05 Sep 2023 17:27:22 GMT',\n",
       "   'content-type': 'application/json',\n",
       "   'connection': 'keep-alive',\n",
       "   'x-amzn-requestid': '715ee90a-d0e7-4a93-af7e-81daf7f75bf0'},\n",
       "  'RetryAttempts': 0}}"
      ]
     },
     "execution_count": 53,
     "metadata": {},
     "output_type": "execute_result"
    }
   ],
   "source": [
    "sm_client = boto3.client(\"sagemaker\")\n",
    "\n",
    "# Delete the Lambda function\n",
    "step_deployment.func.delete()\n",
    "\n",
    "# Endpoint 는 그냥 추후에 미사용시 삭제 \n",
    "# Delete the endpoint\n",
    "#hf_predictor.delete_endpoint()"
   ]
  },
  {
   "cell_type": "code",
   "execution_count": null,
   "id": "a1a61362-4369-4226-9268-0515ae18a766",
   "metadata": {},
   "outputs": [],
   "source": []
  }
 ],
 "metadata": {
  "availableInstances": [
   {
    "_defaultOrder": 0,
    "_isFastLaunch": true,
    "category": "General purpose",
    "gpuNum": 0,
    "hideHardwareSpecs": false,
    "memoryGiB": 4,
    "name": "ml.t3.medium",
    "vcpuNum": 2
   },
   {
    "_defaultOrder": 1,
    "_isFastLaunch": false,
    "category": "General purpose",
    "gpuNum": 0,
    "hideHardwareSpecs": false,
    "memoryGiB": 8,
    "name": "ml.t3.large",
    "vcpuNum": 2
   },
   {
    "_defaultOrder": 2,
    "_isFastLaunch": false,
    "category": "General purpose",
    "gpuNum": 0,
    "hideHardwareSpecs": false,
    "memoryGiB": 16,
    "name": "ml.t3.xlarge",
    "vcpuNum": 4
   },
   {
    "_defaultOrder": 3,
    "_isFastLaunch": false,
    "category": "General purpose",
    "gpuNum": 0,
    "hideHardwareSpecs": false,
    "memoryGiB": 32,
    "name": "ml.t3.2xlarge",
    "vcpuNum": 8
   },
   {
    "_defaultOrder": 4,
    "_isFastLaunch": true,
    "category": "General purpose",
    "gpuNum": 0,
    "hideHardwareSpecs": false,
    "memoryGiB": 8,
    "name": "ml.m5.large",
    "vcpuNum": 2
   },
   {
    "_defaultOrder": 5,
    "_isFastLaunch": false,
    "category": "General purpose",
    "gpuNum": 0,
    "hideHardwareSpecs": false,
    "memoryGiB": 16,
    "name": "ml.m5.xlarge",
    "vcpuNum": 4
   },
   {
    "_defaultOrder": 6,
    "_isFastLaunch": false,
    "category": "General purpose",
    "gpuNum": 0,
    "hideHardwareSpecs": false,
    "memoryGiB": 32,
    "name": "ml.m5.2xlarge",
    "vcpuNum": 8
   },
   {
    "_defaultOrder": 7,
    "_isFastLaunch": false,
    "category": "General purpose",
    "gpuNum": 0,
    "hideHardwareSpecs": false,
    "memoryGiB": 64,
    "name": "ml.m5.4xlarge",
    "vcpuNum": 16
   },
   {
    "_defaultOrder": 8,
    "_isFastLaunch": false,
    "category": "General purpose",
    "gpuNum": 0,
    "hideHardwareSpecs": false,
    "memoryGiB": 128,
    "name": "ml.m5.8xlarge",
    "vcpuNum": 32
   },
   {
    "_defaultOrder": 9,
    "_isFastLaunch": false,
    "category": "General purpose",
    "gpuNum": 0,
    "hideHardwareSpecs": false,
    "memoryGiB": 192,
    "name": "ml.m5.12xlarge",
    "vcpuNum": 48
   },
   {
    "_defaultOrder": 10,
    "_isFastLaunch": false,
    "category": "General purpose",
    "gpuNum": 0,
    "hideHardwareSpecs": false,
    "memoryGiB": 256,
    "name": "ml.m5.16xlarge",
    "vcpuNum": 64
   },
   {
    "_defaultOrder": 11,
    "_isFastLaunch": false,
    "category": "General purpose",
    "gpuNum": 0,
    "hideHardwareSpecs": false,
    "memoryGiB": 384,
    "name": "ml.m5.24xlarge",
    "vcpuNum": 96
   },
   {
    "_defaultOrder": 12,
    "_isFastLaunch": false,
    "category": "General purpose",
    "gpuNum": 0,
    "hideHardwareSpecs": false,
    "memoryGiB": 8,
    "name": "ml.m5d.large",
    "vcpuNum": 2
   },
   {
    "_defaultOrder": 13,
    "_isFastLaunch": false,
    "category": "General purpose",
    "gpuNum": 0,
    "hideHardwareSpecs": false,
    "memoryGiB": 16,
    "name": "ml.m5d.xlarge",
    "vcpuNum": 4
   },
   {
    "_defaultOrder": 14,
    "_isFastLaunch": false,
    "category": "General purpose",
    "gpuNum": 0,
    "hideHardwareSpecs": false,
    "memoryGiB": 32,
    "name": "ml.m5d.2xlarge",
    "vcpuNum": 8
   },
   {
    "_defaultOrder": 15,
    "_isFastLaunch": false,
    "category": "General purpose",
    "gpuNum": 0,
    "hideHardwareSpecs": false,
    "memoryGiB": 64,
    "name": "ml.m5d.4xlarge",
    "vcpuNum": 16
   },
   {
    "_defaultOrder": 16,
    "_isFastLaunch": false,
    "category": "General purpose",
    "gpuNum": 0,
    "hideHardwareSpecs": false,
    "memoryGiB": 128,
    "name": "ml.m5d.8xlarge",
    "vcpuNum": 32
   },
   {
    "_defaultOrder": 17,
    "_isFastLaunch": false,
    "category": "General purpose",
    "gpuNum": 0,
    "hideHardwareSpecs": false,
    "memoryGiB": 192,
    "name": "ml.m5d.12xlarge",
    "vcpuNum": 48
   },
   {
    "_defaultOrder": 18,
    "_isFastLaunch": false,
    "category": "General purpose",
    "gpuNum": 0,
    "hideHardwareSpecs": false,
    "memoryGiB": 256,
    "name": "ml.m5d.16xlarge",
    "vcpuNum": 64
   },
   {
    "_defaultOrder": 19,
    "_isFastLaunch": false,
    "category": "General purpose",
    "gpuNum": 0,
    "hideHardwareSpecs": false,
    "memoryGiB": 384,
    "name": "ml.m5d.24xlarge",
    "vcpuNum": 96
   },
   {
    "_defaultOrder": 20,
    "_isFastLaunch": false,
    "category": "General purpose",
    "gpuNum": 0,
    "hideHardwareSpecs": true,
    "memoryGiB": 0,
    "name": "ml.geospatial.interactive",
    "supportedImageNames": [
     "sagemaker-geospatial-v1-0"
    ],
    "vcpuNum": 0
   },
   {
    "_defaultOrder": 21,
    "_isFastLaunch": true,
    "category": "Compute optimized",
    "gpuNum": 0,
    "hideHardwareSpecs": false,
    "memoryGiB": 4,
    "name": "ml.c5.large",
    "vcpuNum": 2
   },
   {
    "_defaultOrder": 22,
    "_isFastLaunch": false,
    "category": "Compute optimized",
    "gpuNum": 0,
    "hideHardwareSpecs": false,
    "memoryGiB": 8,
    "name": "ml.c5.xlarge",
    "vcpuNum": 4
   },
   {
    "_defaultOrder": 23,
    "_isFastLaunch": false,
    "category": "Compute optimized",
    "gpuNum": 0,
    "hideHardwareSpecs": false,
    "memoryGiB": 16,
    "name": "ml.c5.2xlarge",
    "vcpuNum": 8
   },
   {
    "_defaultOrder": 24,
    "_isFastLaunch": false,
    "category": "Compute optimized",
    "gpuNum": 0,
    "hideHardwareSpecs": false,
    "memoryGiB": 32,
    "name": "ml.c5.4xlarge",
    "vcpuNum": 16
   },
   {
    "_defaultOrder": 25,
    "_isFastLaunch": false,
    "category": "Compute optimized",
    "gpuNum": 0,
    "hideHardwareSpecs": false,
    "memoryGiB": 72,
    "name": "ml.c5.9xlarge",
    "vcpuNum": 36
   },
   {
    "_defaultOrder": 26,
    "_isFastLaunch": false,
    "category": "Compute optimized",
    "gpuNum": 0,
    "hideHardwareSpecs": false,
    "memoryGiB": 96,
    "name": "ml.c5.12xlarge",
    "vcpuNum": 48
   },
   {
    "_defaultOrder": 27,
    "_isFastLaunch": false,
    "category": "Compute optimized",
    "gpuNum": 0,
    "hideHardwareSpecs": false,
    "memoryGiB": 144,
    "name": "ml.c5.18xlarge",
    "vcpuNum": 72
   },
   {
    "_defaultOrder": 28,
    "_isFastLaunch": false,
    "category": "Compute optimized",
    "gpuNum": 0,
    "hideHardwareSpecs": false,
    "memoryGiB": 192,
    "name": "ml.c5.24xlarge",
    "vcpuNum": 96
   },
   {
    "_defaultOrder": 29,
    "_isFastLaunch": true,
    "category": "Accelerated computing",
    "gpuNum": 1,
    "hideHardwareSpecs": false,
    "memoryGiB": 16,
    "name": "ml.g4dn.xlarge",
    "vcpuNum": 4
   },
   {
    "_defaultOrder": 30,
    "_isFastLaunch": false,
    "category": "Accelerated computing",
    "gpuNum": 1,
    "hideHardwareSpecs": false,
    "memoryGiB": 32,
    "name": "ml.g4dn.2xlarge",
    "vcpuNum": 8
   },
   {
    "_defaultOrder": 31,
    "_isFastLaunch": false,
    "category": "Accelerated computing",
    "gpuNum": 1,
    "hideHardwareSpecs": false,
    "memoryGiB": 64,
    "name": "ml.g4dn.4xlarge",
    "vcpuNum": 16
   },
   {
    "_defaultOrder": 32,
    "_isFastLaunch": false,
    "category": "Accelerated computing",
    "gpuNum": 1,
    "hideHardwareSpecs": false,
    "memoryGiB": 128,
    "name": "ml.g4dn.8xlarge",
    "vcpuNum": 32
   },
   {
    "_defaultOrder": 33,
    "_isFastLaunch": false,
    "category": "Accelerated computing",
    "gpuNum": 4,
    "hideHardwareSpecs": false,
    "memoryGiB": 192,
    "name": "ml.g4dn.12xlarge",
    "vcpuNum": 48
   },
   {
    "_defaultOrder": 34,
    "_isFastLaunch": false,
    "category": "Accelerated computing",
    "gpuNum": 1,
    "hideHardwareSpecs": false,
    "memoryGiB": 256,
    "name": "ml.g4dn.16xlarge",
    "vcpuNum": 64
   },
   {
    "_defaultOrder": 35,
    "_isFastLaunch": false,
    "category": "Accelerated computing",
    "gpuNum": 1,
    "hideHardwareSpecs": false,
    "memoryGiB": 61,
    "name": "ml.p3.2xlarge",
    "vcpuNum": 8
   },
   {
    "_defaultOrder": 36,
    "_isFastLaunch": false,
    "category": "Accelerated computing",
    "gpuNum": 4,
    "hideHardwareSpecs": false,
    "memoryGiB": 244,
    "name": "ml.p3.8xlarge",
    "vcpuNum": 32
   },
   {
    "_defaultOrder": 37,
    "_isFastLaunch": false,
    "category": "Accelerated computing",
    "gpuNum": 8,
    "hideHardwareSpecs": false,
    "memoryGiB": 488,
    "name": "ml.p3.16xlarge",
    "vcpuNum": 64
   },
   {
    "_defaultOrder": 38,
    "_isFastLaunch": false,
    "category": "Accelerated computing",
    "gpuNum": 8,
    "hideHardwareSpecs": false,
    "memoryGiB": 768,
    "name": "ml.p3dn.24xlarge",
    "vcpuNum": 96
   },
   {
    "_defaultOrder": 39,
    "_isFastLaunch": false,
    "category": "Memory Optimized",
    "gpuNum": 0,
    "hideHardwareSpecs": false,
    "memoryGiB": 16,
    "name": "ml.r5.large",
    "vcpuNum": 2
   },
   {
    "_defaultOrder": 40,
    "_isFastLaunch": false,
    "category": "Memory Optimized",
    "gpuNum": 0,
    "hideHardwareSpecs": false,
    "memoryGiB": 32,
    "name": "ml.r5.xlarge",
    "vcpuNum": 4
   },
   {
    "_defaultOrder": 41,
    "_isFastLaunch": false,
    "category": "Memory Optimized",
    "gpuNum": 0,
    "hideHardwareSpecs": false,
    "memoryGiB": 64,
    "name": "ml.r5.2xlarge",
    "vcpuNum": 8
   },
   {
    "_defaultOrder": 42,
    "_isFastLaunch": false,
    "category": "Memory Optimized",
    "gpuNum": 0,
    "hideHardwareSpecs": false,
    "memoryGiB": 128,
    "name": "ml.r5.4xlarge",
    "vcpuNum": 16
   },
   {
    "_defaultOrder": 43,
    "_isFastLaunch": false,
    "category": "Memory Optimized",
    "gpuNum": 0,
    "hideHardwareSpecs": false,
    "memoryGiB": 256,
    "name": "ml.r5.8xlarge",
    "vcpuNum": 32
   },
   {
    "_defaultOrder": 44,
    "_isFastLaunch": false,
    "category": "Memory Optimized",
    "gpuNum": 0,
    "hideHardwareSpecs": false,
    "memoryGiB": 384,
    "name": "ml.r5.12xlarge",
    "vcpuNum": 48
   },
   {
    "_defaultOrder": 45,
    "_isFastLaunch": false,
    "category": "Memory Optimized",
    "gpuNum": 0,
    "hideHardwareSpecs": false,
    "memoryGiB": 512,
    "name": "ml.r5.16xlarge",
    "vcpuNum": 64
   },
   {
    "_defaultOrder": 46,
    "_isFastLaunch": false,
    "category": "Memory Optimized",
    "gpuNum": 0,
    "hideHardwareSpecs": false,
    "memoryGiB": 768,
    "name": "ml.r5.24xlarge",
    "vcpuNum": 96
   },
   {
    "_defaultOrder": 47,
    "_isFastLaunch": false,
    "category": "Accelerated computing",
    "gpuNum": 1,
    "hideHardwareSpecs": false,
    "memoryGiB": 16,
    "name": "ml.g5.xlarge",
    "vcpuNum": 4
   },
   {
    "_defaultOrder": 48,
    "_isFastLaunch": false,
    "category": "Accelerated computing",
    "gpuNum": 1,
    "hideHardwareSpecs": false,
    "memoryGiB": 32,
    "name": "ml.g5.2xlarge",
    "vcpuNum": 8
   },
   {
    "_defaultOrder": 49,
    "_isFastLaunch": false,
    "category": "Accelerated computing",
    "gpuNum": 1,
    "hideHardwareSpecs": false,
    "memoryGiB": 64,
    "name": "ml.g5.4xlarge",
    "vcpuNum": 16
   },
   {
    "_defaultOrder": 50,
    "_isFastLaunch": false,
    "category": "Accelerated computing",
    "gpuNum": 1,
    "hideHardwareSpecs": false,
    "memoryGiB": 128,
    "name": "ml.g5.8xlarge",
    "vcpuNum": 32
   },
   {
    "_defaultOrder": 51,
    "_isFastLaunch": false,
    "category": "Accelerated computing",
    "gpuNum": 1,
    "hideHardwareSpecs": false,
    "memoryGiB": 256,
    "name": "ml.g5.16xlarge",
    "vcpuNum": 64
   },
   {
    "_defaultOrder": 52,
    "_isFastLaunch": false,
    "category": "Accelerated computing",
    "gpuNum": 4,
    "hideHardwareSpecs": false,
    "memoryGiB": 192,
    "name": "ml.g5.12xlarge",
    "vcpuNum": 48
   },
   {
    "_defaultOrder": 53,
    "_isFastLaunch": false,
    "category": "Accelerated computing",
    "gpuNum": 4,
    "hideHardwareSpecs": false,
    "memoryGiB": 384,
    "name": "ml.g5.24xlarge",
    "vcpuNum": 96
   },
   {
    "_defaultOrder": 54,
    "_isFastLaunch": false,
    "category": "Accelerated computing",
    "gpuNum": 8,
    "hideHardwareSpecs": false,
    "memoryGiB": 768,
    "name": "ml.g5.48xlarge",
    "vcpuNum": 192
   },
   {
    "_defaultOrder": 55,
    "_isFastLaunch": false,
    "category": "Accelerated computing",
    "gpuNum": 8,
    "hideHardwareSpecs": false,
    "memoryGiB": 1152,
    "name": "ml.p4d.24xlarge",
    "vcpuNum": 96
   },
   {
    "_defaultOrder": 56,
    "_isFastLaunch": false,
    "category": "Accelerated computing",
    "gpuNum": 8,
    "hideHardwareSpecs": false,
    "memoryGiB": 1152,
    "name": "ml.p4de.24xlarge",
    "vcpuNum": 96
   }
  ],
  "colab": {
   "provenance": []
  },
  "kernelspec": {
   "display_name": "Python 3 (PyTorch 1.13 Python 3.9 CPU Optimized)",
   "language": "python",
   "name": "python3__SAGEMAKER_INTERNAL__arn:aws:sagemaker:us-east-1:081325390199:image/pytorch-1.13-cpu-py39"
  },
  "language_info": {
   "codemirror_mode": {
    "name": "ipython",
    "version": 3
   },
   "file_extension": ".py",
   "mimetype": "text/x-python",
   "name": "python",
   "nbconvert_exporter": "python",
   "pygments_lexer": "ipython3",
   "version": "3.9.16"
  },
  "lcc_arn": "arn:aws:sagemaker:us-east-1:353411055907:studio-lifecycle-config/install-pip-package-on-kernel"
 },
 "nbformat": 4,
 "nbformat_minor": 5
}
